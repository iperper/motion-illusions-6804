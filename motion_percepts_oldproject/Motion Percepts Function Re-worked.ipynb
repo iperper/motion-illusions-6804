{
 "cells": [
  {
   "cell_type": "markdown",
   "metadata": {},
   "source": [
    "#### 6.804 Fall 2019 Final Project\n",
    "Matthew Johnston (UG) and Isaac Perper (UG)\n",
    "\n",
    "### Title\n",
    "\n",
    "Run the code below to visualize the results of the paper as we implemented them."
   ]
  },
  {
   "cell_type": "code",
   "execution_count": 374,
   "metadata": {},
   "outputs": [],
   "source": [
    "import numpy as np\n",
    "from PIL import Image\n",
    "import matplotlib.pyplot as plt\n",
    "import math"
   ]
  },
  {
   "cell_type": "code",
   "execution_count": 466,
   "metadata": {},
   "outputs": [
    {
     "data": {
      "image/png": "[encoded data removed]",
      "text/plain": [
       "<Figure size 432x288 with 1 Axes>"
      ]
     },
     "metadata": {},
     "output_type": "display_data"
    },
    {
     "data": {
      "image/png": "[encoded data removed]",
      "text/plain": [
       "<Figure size 432x288 with 1 Axes>"
      ]
     },
     "metadata": {},
     "output_type": "display_data"
    },
    {
     "name": "stdout",
     "output_type": "stream",
     "text": [
      "241.4808 241.4808\n",
      "[[0 0 0 ... 0 0 0]\n",
      " [0 0 0 ... 0 0 0]\n",
      " [0 0 0 ... 0 0 0]\n",
      " ...\n",
      " [0 0 0 ... 0 0 0]\n",
      " [0 0 0 ... 0 0 0]\n",
      " [0 0 0 ... 0 0 0]]\n"
     ]
    }
   ],
   "source": [
    "# PARAMETERS -- set the parameters of the image and the rhombus you want\n",
    "w = 500 # width of image\n",
    "h = 500 # height of image\n",
    "length = 128 # side length fo rhombus\n",
    "offset = 20 # offset of left side from the right side\n",
    "line_width = 3 # thickness of line\n",
    "\n",
    "total_height = length + offset\n",
    "width = np.sqrt(length**2 - offset**2)\n",
    "slope = offset/width # this is the slope of the two connecting sides\n",
    "\n",
    "# initialize image\n",
    "data = np.zeros((w, h), dtype=np.uint8) # start with blank image of size w, h\n",
    "data[0:w-1, 0:h-1] = 255 \n",
    "img = Image.fromarray(data, 'L')\n",
    "contrast_val = 128 \n",
    "\n",
    "# set right and left sides to black\n",
    "for i in range(w): # y axis\n",
    "    for j in range(h): # x axis\n",
    "        if (j == 150 and (h + length)/2 >= i >= (h - length)/2): # takes care of left side\n",
    "            data[i, j:j+line_width] = 255 - contrast_val\n",
    "        elif (j == math.floor(150 + width) and (h + length)/2 >= i >= (h - length)/2): # takes care of right side which is shifted up \n",
    "            data[i - offset, j:j+line_width] = 255 - contrast_val\n",
    "\n",
    "# we need a block just to calculate the actual coordinates for the edges\n",
    "for j in range(150, math.floor(150 + width) + line_width): # all the x values for which the rhombus will be there\n",
    "    bottom_y = int(round((j-150) * -1 * slope + (h + length) / 2)) # bottom edge y values\n",
    "    # data[bottom_y:bottom_y+line_width, j] = 255 - contrast_val\n",
    "    upper_y = bottom_y - length\n",
    "    # data[upper_y:upper_y+line_width, j] = 255 - contrast_val\n",
    "    data[upper_y:bottom_y+line_width, j] = 255 - contrast_val\n",
    "\n",
    "# can also rotate if we want -- might be harder to get a good resolution though so let's hold off for now\n",
    "# img = img.rotate(45)\n",
    "\n",
    "translation = 20 # parameter to control how much it translates to the right\n",
    "\n",
    "img_translate = img.copy()\n",
    "img_cropped = img.crop((50, 50, w-50, w-50)) # crop to 400x400\n",
    "# img_cropped.show() # show orginal image cropped\n",
    "img_translate = img.rotate(0, translate=(translation, 0)) # translates right by 20\n",
    "img_translate_cropped = img_translate.crop((50, 50, w-50, w-50)) # crop to 400x400\n",
    "# img_translate_cropped.show() # show translated image cropped\n",
    "\n",
    "data_translated = np.array(img_translate) # this gives us the translated image as np array\n",
    "\n",
    "initial = data[50:w-50, 50:w-50] # this gives us the original image 400x400\n",
    "final = data_translated[50:w-50, 50:w-50] # this give us the translated image 400x400\n",
    "\n",
    "initial = initial.astype('int16')\n",
    "\n",
    "final = final.astype('int16')\n",
    "plt.imshow(initial)\n",
    "plt.show()\n",
    "plt.imshow(final)\n",
    "plt.show()\n",
    "\n",
    "print(np.mean(initial), np.mean(final))\n",
    "print(final-initial)"
   ]
  },
  {
   "cell_type": "code",
   "execution_count": 467,
   "metadata": {},
   "outputs": [],
   "source": [
    "# Derivative Functions\n",
    "\n",
    "def gradient_time(img1, img2, dt):\n",
    "    '''\n",
    "    Takes image at time t and time t+dt to compute the temporal derivate I_t(x,y,t)\n",
    "    '''\n",
    "    return ((img2 - img1))\n",
    "\n",
    "\n",
    "def gradient_y(img1):\n",
    "    '''\n",
    "    Takes image from time t and computes the spatial derivativee in the y direction.\n",
    "    Uses 1x3 diffferentiation kernel\n",
    "    '''\n",
    "    kernel = np.array([1,0,-1])\n",
    "    pad_size = 3\n",
    "    \n",
    "    # Pad the image with zeros on top and bottom\n",
    "    padded = np.vstack((np.tile(img1[0:1,:], (pad_size,1)),img1,np.tile(img1[-1:,:], (pad_size,1))))\n",
    "    \n",
    "    # Flatten in column-major form so the kernel convolves along the correct dimensions\n",
    "    convolved = np.convolve(kernel, padded.ravel('F'), mode='same')\n",
    "    return (convolved.reshape(padded.shape, order='F')[pad_size:pad_size+img1.shape[0], :])\n",
    "\n",
    "def gradient_x(img1):\n",
    "    '''\n",
    "    Takes image from time t and computes the spatial derivativee in the x direction.\n",
    "    Uses 1x3 diffferentiation kernel\n",
    "    '''\n",
    "    kernel = np.array([1,0,-1])\n",
    "    pad_size = 3\n",
    "    \n",
    "    # Pad the image with zeros on top and bottom\n",
    "    padded = np.hstack((np.tile(img1[:,0:1], (1, pad_size)), img1, np.tile(img1[:,-1:], (1, pad_size))))\n",
    "        \n",
    "    # Flatten in column-major form so the kernel convolves along the correct dimensions\n",
    "    convolved = np.convolve(kernel, padded.ravel(), mode='same')\n",
    "    return (convolved.reshape(padded.shape)[:, pad_size:pad_size+img1.shape[1]])/255"
   ]
  },
  {
   "cell_type": "code",
   "execution_count": null,
   "metadata": {},
   "outputs": [],
   "source": []
  },
  {
   "cell_type": "code",
   "execution_count": 468,
   "metadata": {},
   "outputs": [],
   "source": [
    "# Compute derivative of image test\n",
    "\n",
    "vx = np.arange(-100, 100, 4)\n",
    "vy = np.arange(-100, 100, 4)\n",
    "vxx, vyy = np.meshgrid(vx, vy, sparse=True)\n",
    "\n",
    "img = np.zeros((256,256))\n",
    "img[126:146,:] = 255\n",
    "\n",
    "img2 = np.zeros((256,256))\n",
    "img2[112:132, :] = 255\n",
    "\n",
    "h, w = initial.shape\n",
    "imx = np.arange(0, w)\n",
    "imy = np.arange(0, h)\n",
    "\n",
    "imxx, imyy = np.meshgrid(imx, imy, sparse=True)"
   ]
  },
  {
   "cell_type": "code",
   "execution_count": 469,
   "metadata": {},
   "outputs": [
    {
     "name": "stdout",
     "output_type": "stream",
     "text": [
      "-128\n",
      "127\n",
      "255\n"
     ]
    }
   ],
   "source": [
    "# Likelihood function\n",
    "\n",
    "v_x = 1\n",
    "v_y = 1\n",
    "sigma = 1\n",
    "\n",
    "Ix = gradient_x(initial)\n",
    "Iy = gradient_y(initial)\n",
    "It = gradient_time(initial, final, 1)\n",
    "\n",
    "\n",
    "# print((final-initial)[200,230])\n",
    "# print((final)[200,230])\n",
    "# print((initial)[200,230])\n",
    "\n",
    "# type(final[0,0])\n",
    "\n",
    "# It[200, 110]"
   ]
  },
  {
   "cell_type": "code",
   "execution_count": 474,
   "metadata": {},
   "outputs": [],
   "source": [
    "def inner(vxx, vyy, Ix, Iy, It):\n",
    "    arr = np.zeros((vyy.shape[0], vxx.shape[1]))\n",
    "    print(arr.shape)\n",
    "    \n",
    "    for i, yval in np.ndenumerate(vyy):\n",
    "        for j, xval  in np.ndenumerate(vxx):\n",
    "            arr[i[1],j[1]] = np.sum(np.square(Ix*xval + Iy*yval + It))\n",
    "    return arr\n",
    "\n",
    "def likelihood(window, vxi, vyi, Ix, Iy, Iz, sigma_noise = 0.5):\n",
    "    return np.exp(-1/(2*sigma_noise**2) * np.sum(window * np.square(Ix*vxi + Iy*vyi + It)))\n",
    "\n",
    "def vel_plot(xi, yi, vxx, vyy, Ix, Iy, Iz, sigma_noise):\n",
    "        \n",
    "    h, w = Ix.shape\n",
    "    imx = np.arange(0, w)\n",
    "    imy = np.arange(0, h)\n",
    "    imxx, imyy = np.meshgrid(imx, imy, sparse=True)\n",
    "\n",
    "    window = np.exp(-((imxx-xi)**2+(imyy-yi)**2)/(2*sigma_noise**2))\n",
    "#     plt.imshow(window)\n",
    "#     plt.show()\n",
    "#     plt.imshow(img)\n",
    "#     plt.show()\n",
    "    \n",
    "    arr = np.zeros((vyy.shape[0], vxx.shape[1]))\n",
    "    \n",
    "    for i, vy in np.ndenumerate(vyy):\n",
    "        for j, vx in np.ndenumerate(vxx):\n",
    "            arr[i[0],j[1]] = likelihood(window, vx, vy, Ix, Iy, Iz, sigma_noise)\n",
    "\n",
    "    print(\"Max: %f\", np.max(arr))\n",
    "#     plt.contourf(vxx[0,:], vyy[:,0], arr)\n",
    "#     plt.show()\n",
    "    \n",
    "    return arr\n",
    "\n",
    "# Prior\n",
    "def prior(vx, vy, sigma_p=1):\n",
    "    return -255*np.abs(vx*vx+vy*vy)/(2*sigma_p**2)\n",
    "\n",
    "# Prior\n",
    "def tot_prior(vxx, vyy, sigma_p=1):\n",
    "    return np.exp(-np.abs(vxx*vxx+vyy*vyy)/(2*sigma_p**2))\n",
    "\n",
    "\n",
    "def tot_likelihood(vx, vy, Ix, Iy, It, sigma_noise=10):\n",
    "    return -1/(2*sigma_noise**2)*np.sum(np.square(Ix*vx + Iy*vy + It))\n",
    "    \n",
    "# arr = vel_plot(128, 80, vxx, vyy, Ix, Iy, It, 20)"
   ]
  },
  {
   "cell_type": "code",
   "execution_count": 476,
   "metadata": {},
   "outputs": [
    {
     "name": "stdout",
     "output_type": "stream",
     "text": [
      "0.0 0.0 0.0\n",
      "Max: %f -53711.603252902714\n"
     ]
    },
    {
     "data": {
      "image/png": "[encoded data removed]",
      "text/plain": [
       "<Figure size 432x288 with 1 Axes>"
      ]
     },
     "metadata": {},
     "output_type": "display_data"
    },
    {
     "name": "stdout",
     "output_type": "stream",
     "text": [
      "0 24\n"
     ]
    }
   ],
   "source": [
    "def posterior(vxx, vyy, Ix, Iy, It, sigma_p, sigma_noise):\n",
    "    arr = np.zeros((vyy.shape[0], vxx.shape[1]))\n",
    "    \n",
    "    for i, vy in np.ndenumerate(vyy):\n",
    "        for j, vx in np.ndenumerate(vxx):\n",
    "            arr[i[0],j[1]] = prior(vx, vy, sigma_p) +  tot_likelihood(vx, vy, Ix, Iy, It, sigma_noise)\n",
    "\n",
    "    print(\"Max: %f\", np.max(arr))\n",
    "    plt.contourf(vxx[0,:], vyy[:,0], arr)\n",
    "    plt.show()\n",
    "    \n",
    "    return arr\n",
    "\n",
    "print(np.mean(Iy), np.mean(Ix), np.mean(Iy*1 + It))\n",
    "arr = posterior(vxx, vyy, Ix, Iy, It, 20, 30)\n",
    "\n",
    "vx_maxi, vy_maxi = np.unravel_index(np.argmax(arr, axis=None), arr.shape)\n",
    "vx_max = vx[vx_maxi]\n",
    "vy_max = vy[vy_maxi]\n",
    "\n",
    "print(vx_max, vy_max)"
   ]
  },
  {
   "cell_type": "code",
   "execution_count": 384,
   "metadata": {},
   "outputs": [
    {
     "name": "stdout",
     "output_type": "stream",
     "text": [
      "9.75 -10.0\n"
     ]
    },
    {
     "data": {
      "image/png": "[encoded data removed]",
      "text/plain": [
       "<Figure size 432x288 with 1 Axes>"
      ]
     },
     "metadata": {},
     "output_type": "display_data"
    },
    {
     "name": "stdout",
     "output_type": "stream",
     "text": [
      "255.0\n"
     ]
    },
    {
     "data": {
      "image/png": "[encoded data removed]",
      "text/plain": [
       "<Figure size 432x288 with 1 Axes>"
      ]
     },
     "metadata": {},
     "output_type": "display_data"
    },
    {
     "data": {
      "image/png": "[encoded data removed]",
      "text/plain": [
       "<Figure size 432x288 with 1 Axes>"
      ]
     },
     "metadata": {},
     "output_type": "display_data"
    },
    {
     "data": {
      "image/png": "[encoded data removed]",
      "text/plain": [
       "<Figure size 432x288 with 1 Axes>"
      ]
     },
     "metadata": {},
     "output_type": "display_data"
    }
   ],
   "source": [
    "print(vx_max, vy_max)\n",
    "\n",
    "plt.plot(vy, arr[:,0])\n",
    "plt.show()\n",
    "\n",
    "print(np.max(Iy))\n",
    "plt.imshow(Iy*255)\n",
    "plt.show()\n",
    "plt.imshow(It*255)\n",
    "plt.show()\n",
    "\n",
    "plt.imshow((Iy*-0.5+It)**2*255)\n",
    "plt.show()"
   ]
  },
  {
   "cell_type": "code",
   "execution_count": null,
   "metadata": {},
   "outputs": [],
   "source": []
  },
  {
   "cell_type": "code",
   "execution_count": 368,
   "metadata": {},
   "outputs": [],
   "source": [
    "# print(arr.shape)\n",
    "# print(vxx.shape)\n",
    "# print(vyy.shape)\n",
    "# plt.contourf(vxx[0,:], vyy[:,0], arr)\n",
    "# plt.show()"
   ]
  },
  {
   "cell_type": "code",
   "execution_count": 88,
   "metadata": {},
   "outputs": [
    {
     "name": "stdout",
     "output_type": "stream",
     "text": [
      "[[1.66464000e+09 1.59872026e+09 1.53413222e+09 ... 1.47087590e+09\n",
      "  1.53413222e+09 1.59872026e+09]\n",
      " [1.66464000e+09 1.59872026e+09 1.53413222e+09 ... 1.47087590e+09\n",
      "  1.53413222e+09 1.59872026e+09]\n",
      " [1.66464000e+09 1.59872026e+09 1.53413222e+09 ... 1.47087590e+09\n",
      "  1.53413222e+09 1.59872026e+09]\n",
      " ...\n",
      " [1.66464000e+09 1.59872026e+09 1.53413222e+09 ... 1.47087590e+09\n",
      "  1.53413222e+09 1.59872026e+09]\n",
      " [1.66464000e+09 1.59872026e+09 1.53413222e+09 ... 1.47087590e+09\n",
      "  1.53413222e+09 1.59872026e+09]\n",
      " [1.66464000e+09 1.59872026e+09 1.53413222e+09 ... 1.47087590e+09\n",
      "  1.53413222e+09 1.59872026e+09]]\n",
      "1664640000.0 2.101071067627368e-20\n",
      "0.0\n",
      "1.0\n"
     ]
    },
    {
     "data": {
      "image/png": "[encoded data removed]",
      "text/plain": [
       "<Figure size 432x288 with 1 Axes>"
      ]
     },
     "metadata": {},
     "output_type": "display_data"
    }
   ],
   "source": [
    "print(outX)\n",
    "\n",
    "print(np.max(outX), np.min(outX))\n",
    "\n",
    "# plt.contourf(vx,vy,out)\n",
    "# plt.show()\n",
    "\n",
    "# print(outX[0, :])\n",
    "# print(np.exp(-outX))\n",
    "# print(np.exp(-6.65856000e+05*1e5))\n",
    "# print(np.exp(-2.10107107e-20*1e5))\n",
    "\n",
    "plt.contourf(vx,vy,outX)\n",
    "plt.show()\n",
    "\n",
    "# plt.imshow(outX*255)\n",
    "# plt.show()\n",
    "\n",
    "# Image.fromarray(img).show()\n",
    "# plt.contourf(vx,vy,outY)\n",
    "# plt.show()\n",
    "# plt.contourf(vx,vy,outT)\n",
    "# plt.show()"
   ]
  }
 ],
 "metadata": {
  "kernelspec": {
   "display_name": "Python 3",
   "language": "python",
   "name": "python3"
  },
  "language_info": {
   "codemirror_mode": {
    "name": "ipython",
    "version": 3
   },
   "file_extension": ".py",
   "mimetype": "text/x-python",
   "name": "python",
   "nbconvert_exporter": "python",
   "pygments_lexer": "ipython3",
   "version": "3.6.9"
  }
 },
 "nbformat": 4,
 "nbformat_minor": 2
}
